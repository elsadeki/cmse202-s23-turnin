{
 "cells": [
  {
   "cell_type": "markdown",
   "metadata": {},
   "source": [
    "# Homework Assignment #4 (Individual)\n",
    "## Regression and SVM Predictive Models"
   ]
  },
  {
   "cell_type": "markdown",
   "metadata": {},
   "source": [
    "### <p style=\"text-align: right;\"> &#9989; Ibrahim Elsadek\n",
    "### <p style=\"text-align: right;\"> &#9989; elsadeki"
   ]
  },
  {
   "cell_type": "markdown",
   "metadata": {},
   "source": [
    "### Goal for this homework assignment\n",
    "By now, you have learned a bit about predictive models. In this assignment, you will practice:\n",
    "\n",
    "* Building predictive models using `statsmodels` and `sklearn`\n",
    "* Evaluating your predictive models\n",
    "\n",
    "**This assignment is due roughly two weeks from now at 11:59 pm on Friday, April 21st.** It should be uploaded into the \"Homework Assignments\" submission folder for Homework #4.  Submission instructions can be found at the end of the notebook.\n"
   ]
  },
  {
   "cell_type": "markdown",
   "metadata": {},
   "source": [
    "---\n",
    "## Part 0: Add to your Git repository to track your progress on your assignment (4 points)\n",
    "\n",
    "For this assignment, you're going to add it to the `cmse202-s23-turnin` repository you created in class so that you can track your progress on the assignment and preserve the final version that you turn in. In order to do this you need to\n",
    "\n",
    "**&#9989; Do the following**:\n",
    "\n",
    "1. Navigate to your `cmse202-s23-turnin` repository and create a new directory called `hw-04`.\n",
    "2. Move this notebook into that **new directory** in your repository, then **add it and commit it to your repository**.\n",
    "1. Finally, to test that everything is working, \"git push\" the file so that it ends up in your GitHub repository.\n",
    "\n",
    "**Important**: Double check you've added your Professor and your TA as collaborators to your \"turnin\" repository (you should have done this in the previous homework assignment).\n",
    "\n",
    "**Also important**: Make sure that the version of this notebook that you are working on is the same one that you just added to your repository! If you are working on a different copy of the notebook, **none of your changes will be tracked**!\n",
    "\n",
    "If everything went as intended, the file should now show up on your GitHub account in the \"`cmse202-s23-turnin`\" repository inside the `hw-04` directory that you just created.  Periodically, **you'll be asked to commit your changes to the repository and push them to the remote GitHub location**. Of course, you can always commit your changes more often than that, if you wish.  It can be good to get into a habit of committing your changes any time you make a significant modification, or when you stop working on the project for a bit.\n",
    "\n",
    "&#9989; **Do this**: Before you move on, put the command that your instructor should run to clone your repository in the markdown cell below."
   ]
  },
  {
   "cell_type": "markdown",
   "metadata": {},
   "source": [
    "git clone https://github.com/elsadeki/cmse202-s23-turnin/tree/main/hw04"
   ]
  },
  {
   "cell_type": "markdown",
   "metadata": {},
   "source": [
    "# Building a Model to Predict if it Will Rain Tomorrow\n",
    "\n",
    "In this dataset we have weather data for a number of Australian cities. We’re going to **build a model that uses data from today to predict if it will rain tomorrow.** To simplify our model, let’s just look at the weather for one city.\n",
    "\n",
    "## Part 1. Working with the Data\n",
    "\n",
    "The dataset that we’ll be using can be found here:\n",
    "- `https://raw.githubusercontent.com/msu-cmse-courses/cmse202-S23-data/main/HW/HW4/aussie_weather_data.csv`\n",
    "\n",
    "#### 1.1 (3 Points)\n",
    "**Download the data set and read it in using Pandas.**"
   ]
  },
  {
   "cell_type": "code",
   "execution_count": 3,
   "metadata": {},
   "outputs": [],
   "source": [
    "import pandas as pd\n",
    "import matplotlib.pyplot as plt\n",
    "import numpy as np\n",
    "from sklearn.model_selection import train_test_split\n",
    "import statsmodels.api as sm\n",
    "from sklearn import metrics"
   ]
  },
  {
   "cell_type": "code",
   "execution_count": 4,
   "metadata": {},
   "outputs": [],
   "source": [
    "#Write your code here\n",
    "data = pd.read_csv(\"aussie_weather_data.csv\")"
   ]
  },
  {
   "cell_type": "markdown",
   "metadata": {},
   "source": [
    "#### 1.2 (3 Points)\n",
    "This dataset has weather information for multiple cities in Australia. It’s quite a large dataset. In fact, it’s a little *too* large for our purposes; it will take a considerable amount of time to train a model on so much data. So we’ll just work with the data for a specific city.\n",
    "\n",
    "The first thing we’ll do is see which cities we have data for. \n",
    "**Print out a list of the specific cities in this dataset.** (Note that this is not the same as printing the entire `Location` column.)"
   ]
  },
  {
   "cell_type": "code",
   "execution_count": 5,
   "metadata": {},
   "outputs": [
    {
     "name": "stdout",
     "output_type": "stream",
     "text": [
      "['AliceSprings' 'Brisbane' 'Cairns' 'Darwin' 'MelbourneAirport' 'Mildura'\n",
      " 'MountGambier' 'NorfolkIsland' 'Nuriootpa' 'Perth' 'PerthAirport'\n",
      " 'SydneyAirport' 'Townsville' 'WaggaWagga' 'Watsonia']\n"
     ]
    }
   ],
   "source": [
    "#Write your code here\n",
    "print(np.unique(data[\"Location\"]))"
   ]
  },
  {
   "cell_type": "markdown",
   "metadata": {},
   "source": [
    "#### 1.3 (3 Points)\n",
    "Select one of the cities (and **please** don't just pick the first one!). Cut down your dataframe so that it only contains data from your chosen city. You should also **look through the columns in this dataset and ensure that all of the data is ready for our analysis/model creation.**"
   ]
  },
  {
   "cell_type": "code",
   "execution_count": 6,
   "metadata": {},
   "outputs": [
    {
     "name": "stdout",
     "output_type": "stream",
     "text": [
      "       MinTemp  MaxTemp  Rainfall  Evaporation  Sunshine  WindGustDir  \\\n",
      "31205      6.4     20.7       0.0          1.8       7.0         67.5   \n",
      "31206      9.5     19.2       1.8          1.2       4.7        180.0   \n",
      "31207      9.5     16.4       1.8          1.4       4.9        202.5   \n",
      "31208      0.7     15.9       6.8          2.4       9.3         45.0   \n",
      "31209      0.7     18.3       0.0          0.8       9.3         90.0   \n",
      "...        ...      ...       ...          ...       ...          ...   \n",
      "34225     10.3     19.9       0.2          1.8       7.5        135.0   \n",
      "34226     13.0     16.8      61.2          3.6       0.0        247.5   \n",
      "34227     13.3     18.9       0.4          1.8       6.5        315.0   \n",
      "34228     11.5     18.2       0.0          3.8       9.3        315.0   \n",
      "34229      6.3     17.0       0.0          1.6       7.9          0.0   \n",
      "\n",
      "       WindGustSpeed  WindDir9am  WindDir3pm  WindSpeed9am  WindSpeed3pm  \\\n",
      "31205           22.0       337.5        22.5           6.0           9.0   \n",
      "31206           26.0        45.0       112.5          11.0           6.0   \n",
      "31207           44.0       180.0       225.0          13.0          17.0   \n",
      "31208           24.0        22.5        67.5           4.0           7.0   \n",
      "31209           37.0        67.5        45.0          15.0          13.0   \n",
      "...              ...         ...         ...           ...           ...   \n",
      "34225           37.0        45.0       112.5           9.0          15.0   \n",
      "34226           46.0       180.0       225.0          17.0          17.0   \n",
      "34227           37.0       315.0       337.5          11.0          11.0   \n",
      "34228           30.0       337.5       337.5           9.0          11.0   \n",
      "34229           26.0       315.0       315.0           4.0          11.0   \n",
      "\n",
      "       Humidity9am  Humidity3pm  Pressure9am  Pressure3pm  Cloud9am  Cloud3pm  \\\n",
      "31205         80.0         39.0       1024.1       1019.0       0.0       6.0   \n",
      "31206         93.0         73.0       1019.3       1018.4       6.0       6.0   \n",
      "31207         69.0         57.0       1020.4       1022.1       7.0       5.0   \n",
      "31208         86.0         41.0       1032.0       1029.6       0.0       1.0   \n",
      "31209         72.0         36.0       1028.9       1024.2       1.0       5.0   \n",
      "...            ...          ...          ...          ...       ...       ...   \n",
      "34225         89.0         60.0       1017.1       1013.8       5.0       6.0   \n",
      "34226         90.0         75.0       1005.6       1008.9       7.0       7.0   \n",
      "34227         85.0         65.0       1019.2       1019.4       6.0       6.0   \n",
      "34228         62.0         47.0       1025.9       1023.4       1.0       3.0   \n",
      "34229         75.0         49.0       1028.6       1026.0       1.0       3.0   \n",
      "\n",
      "       Temp9am  Temp3pm  RainToday  \n",
      "31205     11.1     19.7          0  \n",
      "31206     13.2     17.7          1  \n",
      "31207     15.9     16.0          1  \n",
      "31208      6.9     15.5          1  \n",
      "31209      8.7     17.9          0  \n",
      "...        ...      ...        ...  \n",
      "34225     13.0     18.5          0  \n",
      "34226     16.4     15.6          1  \n",
      "34227     15.1     18.0          0  \n",
      "34228     14.0     17.6          0  \n",
      "34229     11.5     15.6          0  \n",
      "\n",
      "[3025 rows x 20 columns]\n"
     ]
    }
   ],
   "source": [
    "#Write your code here\n",
    "# We will choose Perth\n",
    "perth_data = data[data[\"Location\"] == \"Perth\"]\n",
    "perth_data.dropna()\n",
    "print(perth_data.iloc[:,4:24])"
   ]
  },
  {
   "cell_type": "markdown",
   "metadata": {},
   "source": [
    "#### 1.4 (3 Points)\n",
    "Finally, before we start creating our models, let's first split our data into training and testing datasets. **Keep in mind what we want our model to predict and how this dataset gives you the information you need for your model.**"
   ]
  },
  {
   "cell_type": "code",
   "execution_count": 7,
   "metadata": {},
   "outputs": [],
   "source": [
    "#Write your code here\n",
    "\n",
    "train_vectors, test_vectors, train_labels, test_labels = train_test_split(perth_data[perth_data.columns[4:24]], perth_data[\"RainTomorrow\"], test_size = 0.25, random_state = 12)\n"
   ]
  },
  {
   "cell_type": "markdown",
   "metadata": {},
   "source": [
    "## 2.0 Building a Regression Model\n",
    "\n",
    "#### 2.1 (3 Points)\n",
    "We’ll start by creating a regression model. **Does it make sense for us to use linear regression or logistic regression? Explain your choice.**"
   ]
  },
  {
   "cell_type": "markdown",
   "metadata": {},
   "source": [
    "Logistic regression is mainly used in classification problems, while linear regression is used when trying to predict the value of something. We should use logistic regression, because essentially, this is a classification problem. We want to classify each case of data as either \"Yes, it will rain tomorrow\" or \"No, it will not rain tomorrow\". Its a binary prediction, not something where a line makes sense."
   ]
  },
  {
   "cell_type": "markdown",
   "metadata": {},
   "source": [
    "#### 2.2 (12 Points)\n",
    "Create a regression model. Use the model summary to determine which parameters are most statistically significant in your model. If you get an error during at this stage it may be helpful to go back to part 1.3 and ensure that all of your data is appropriate for creating a model. "
   ]
  },
  {
   "cell_type": "code",
   "execution_count": 8,
   "metadata": {},
   "outputs": [
    {
     "name": "stdout",
     "output_type": "stream",
     "text": [
      "Optimization terminated successfully.\n",
      "         Current function value: 0.234751\n",
      "         Iterations 8\n",
      "                           Logit Regression Results                           \n",
      "==============================================================================\n",
      "Dep. Variable:           RainTomorrow   No. Observations:                 2268\n",
      "Model:                          Logit   Df Residuals:                     2247\n",
      "Method:                           MLE   Df Model:                           20\n",
      "Date:                Thu, 20 Apr 2023   Pseudo R-squ.:                  0.5452\n",
      "Time:                        16:57:47   Log-Likelihood:                -532.42\n",
      "converged:                       True   LL-Null:                       -1170.6\n",
      "Covariance Type:            nonrobust   LLR p-value:                3.516e-258\n",
      "=================================================================================\n",
      "                    coef    std err          z      P>|z|      [0.025      0.975]\n",
      "---------------------------------------------------------------------------------\n",
      "const           238.3541     23.108     10.315      0.000     193.063     283.646\n",
      "MinTemp          -0.1267      0.049     -2.599      0.009      -0.222      -0.031\n",
      "MaxTemp           0.0619      0.080      0.773      0.440      -0.095       0.219\n",
      "Rainfall         -0.0058      0.014     -0.409      0.683      -0.033       0.022\n",
      "Evaporation      -0.1187      0.047     -2.505      0.012      -0.212      -0.026\n",
      "Sunshine         -0.1872      0.043     -4.359      0.000      -0.271      -0.103\n",
      "WindGustDir      -0.0030      0.001     -2.378      0.017      -0.006      -0.001\n",
      "WindGustSpeed     0.0774      0.013      5.930      0.000       0.052       0.103\n",
      "WindDir9am       -0.0023      0.001     -2.438      0.015      -0.004      -0.000\n",
      "WindDir3pm       -0.0025      0.001     -1.920      0.055      -0.005    5.31e-05\n",
      "WindSpeed9am     -0.0166      0.023     -0.719      0.472      -0.062       0.029\n",
      "WindSpeed3pm     -0.0003      0.023     -0.014      0.989      -0.046       0.046\n",
      "Humidity9am       0.0148      0.010      1.489      0.136      -0.005       0.034\n",
      "Humidity3pm       0.0445      0.011      3.963      0.000       0.022       0.066\n",
      "Pressure9am       0.2348      0.066      3.581      0.000       0.106       0.363\n",
      "Pressure3pm      -0.4719      0.066     -7.117      0.000      -0.602      -0.342\n",
      "Cloud9am         -0.0067      0.045     -0.149      0.882      -0.095       0.081\n",
      "Cloud3pm          0.1079      0.047      2.308      0.021       0.016       0.200\n",
      "Temp9am           0.0282      0.070      0.401      0.689      -0.110       0.166\n",
      "Temp3pm          -0.1465      0.087     -1.689      0.091      -0.317       0.024\n",
      "RainToday         0.6288      0.252      2.498      0.012       0.135       1.122\n",
      "=================================================================================\n"
     ]
    }
   ],
   "source": [
    "#Write your code here\n",
    "def f(x):\n",
    "    return 1.0/(1+ np.exp(-1*x))\n",
    "x = np.arange(-6,7)\n",
    "logit_model = sm.Logit(train_labels, sm.add_constant(train_vectors))\n",
    "result = logit_model.fit()\n",
    "print(result.summary())"
   ]
  },
  {
   "cell_type": "markdown",
   "metadata": {},
   "source": [
    "It looks like Rain Today is a very significant feature, as is pressure 3pm.. Sunshine also seems somewhat significant."
   ]
  },
  {
   "cell_type": "markdown",
   "metadata": {},
   "source": [
    "#### 2.3 (8 Points)\n",
    "**Fit your test data and create/print a confusion matrix. We’ll use this to evaluate how well your predicitve model performs.**"
   ]
  },
  {
   "cell_type": "code",
   "execution_count": 9,
   "metadata": {},
   "outputs": [
    {
     "name": "stdout",
     "output_type": "stream",
     "text": [
      "[[602  19]\n",
      " [ 48  88]]\n"
     ]
    }
   ],
   "source": [
    "#test_vectors[\"constant\"] = np.zeros(len(test_vectors))\n",
    "predictions = result.predict(sm.add_constant(test_vectors))\n",
    "ok = []\n",
    "for i in predictions:\n",
    "    if i > 0.5:\n",
    "        ok.append(1)\n",
    "    else: \n",
    "        ok.append(0)\n",
    "confuse = metrics.confusion_matrix(test_labels, ok)\n",
    "print(confuse)"
   ]
  },
  {
   "cell_type": "markdown",
   "metadata": {},
   "source": [
    "#### 2.4 (3 Points)\n",
    "Look at/calculate the Precision and Recall of your model. **Which one is greater? Describe in plain language what that means about the performance of your model (I.e., the circumstances in which it does/doesn’t do well).**"
   ]
  },
  {
   "cell_type": "code",
   "execution_count": 10,
   "metadata": {},
   "outputs": [
    {
     "name": "stdout",
     "output_type": "stream",
     "text": [
      "0.9261538461538461 0.9694041867954911\n"
     ]
    }
   ],
   "source": [
    "precision = 602/(602+48.0)\n",
    "recall = 602/(602+19.0)\n",
    "print(precision, recall)"
   ]
  },
  {
   "cell_type": "markdown",
   "metadata": {},
   "source": [
    "Recall is slightly larger. This means that our model had fewer false negatives than false positives. Thus, this model is better at correctly identifying positives (days with rain) than negatives (Days with no rain). It gets fewer false negatives, meaning there are fewer days that actually have rain that are identified as not having rain."
   ]
  },
  {
   "cell_type": "markdown",
   "metadata": {},
   "source": [
    "## 3.0 Interlude: A Base Rate Frequency Model (12 Points)\n",
    "\n",
    "If we didn't create a fancy model for predicting future rainfall, would that mean that we had *no way* of predicting if it would rain? Of course not. There's always *some* kind of model we can use (they just won't be very sophisticated). \n",
    "\n",
    "In the case of our problem--predicting whether it will rain tomorrow--what is the simplest model we could use? We'd need to look at the **base rate frequency**. If we know that, over the course of the year, it rains ~30% of the time, that would be our base rate frequency. If we were to guess that it would be sunny every day of the year, we'd be wrong ~30% of the time, *but we'd be right ~70% of the time.* \n",
    "\n",
    "Why is this important? Imagine we create a sophisticated model that accurately predicts rain/no rain ~60% of the time; without any other information, we might think, \"That's not too bad, I guess.\" It certainly feels better than *no* information, right? Now think about the base rate frequency model, which achieves an accuracy of **70%** just by guessing the same thing every time. Suddenly, our sophisticated model seems like crap! It tells us we could be doing ~10% better than our fancy model by guessing. This is why we use the base rate frequency as a simple way to test our models.\n",
    "\n",
    "\n",
    "**Calculate how frequently it rains in your city. If you were to guess that it *wasn't* going to rain every day, how frequently would you be right? (We'll use this as our baseline model.)**\n"
   ]
  },
  {
   "cell_type": "code",
   "execution_count": 12,
   "metadata": {},
   "outputs": [
    {
     "name": "stdout",
     "output_type": "stream",
     "text": [
      "0.20363636363636364\n"
     ]
    }
   ],
   "source": [
    "#Write your code for calculating the frequency of rain here.\n",
    "count = 0\n",
    "for i in perth_data[\"RainTomorrow\"]:\n",
    "    count+=i\n",
    "print(count/len(perth_data[\"RainTomorrow\"]))"
   ]
  },
  {
   "cell_type": "markdown",
   "metadata": {},
   "source": [
    "It rains about 20.4% of the time in Perth. So, if we always predicted no rain, we would be right about 79.6% of the time."
   ]
  },
  {
   "cell_type": "markdown",
   "metadata": {},
   "source": [
    "---\n",
    "\n",
    "### &#128721; STOP (3 Point)\n",
    "**Pause to commit your changes to your Git repository!**\n",
    "\n",
    "Take a moment to save your notebook, commit the changes to your Git repository with a meaningful commit message.\n",
    "\n",
    "---"
   ]
  },
  {
   "cell_type": "markdown",
   "metadata": {},
   "source": [
    "## 4.0 SVM Model\n",
    "\n",
    "We’ve seen how regression faired in predicting rain; now let’s give Support Vector Machines a shot. \n",
    "\n",
    "It’s not clear, *a priori*, which type of kernel (linear or RBF) would fair better. Therefore, we’ll need to test out both kernel types, as well as multiple values for hyperparameters ($C$ and $\\gamma$). \n",
    "\n",
    "#### 4.1 (12 Points)\n",
    "Run a grid search over both types of kernels and multiple values of $C$ and $\\gamma$ (we recommend [0.01,0.1,1.0,10.0] for both). We *STRONGLY* recommend you set the parameter `n_jobs=-1` in `GridSearchCV`, which will distribute the computational load. Make sure to write down your best-fit hyperparameters. "
   ]
  },
  {
   "cell_type": "code",
   "execution_count": 2,
   "metadata": {},
   "outputs": [],
   "source": [
    "#Write your code here"
   ]
  },
  {
   "cell_type": "markdown",
   "metadata": {},
   "source": [
    "*Write down your best fir hyper-parameters here.*"
   ]
  },
  {
   "cell_type": "markdown",
   "metadata": {},
   "source": [
    "#### 4.2 (8 Points)\n",
    "Using your best-fit parameters, classify your test data and print off the confusion matrix. Note/calculate the Precision and Recall for your SVM model, as well as the overall accuracy.\n",
    "\n",
    "$\\mathrm{Accuracy} = \\frac{\\mathrm{Accurate~Predictions}}{\\mathrm{Total~Samples}}$."
   ]
  },
  {
   "cell_type": "code",
   "execution_count": null,
   "metadata": {},
   "outputs": [],
   "source": [
    "#Write your code here"
   ]
  },
  {
   "cell_type": "markdown",
   "metadata": {},
   "source": [
    "## 5. Evaluation of Models\n",
    "\n",
    "Here we’re going to investigate how well our predictive models actually work.\n",
    "\n",
    "\n",
    "#### 5.1 (5 Points)\n",
    "\n",
    "Compare the accuracy of both of your predictive models (regression and SVM) to the baseline model from part 3. Do your predictive models do better than the baseline model? Is their performance relative to the baseline model what *you* would expect? \n"
   ]
  },
  {
   "cell_type": "markdown",
   "metadata": {},
   "source": [
    "*Write down your response here.*"
   ]
  },
  {
   "cell_type": "markdown",
   "metadata": {},
   "source": [
    "#### 5.2 (5 Points)\n",
    "\n",
    "Let’s test the robustness of your model. Before you do anything, you should record the precision, recall, and accuracy of your two predictive models (if you haven’t already). Once you’ve done that, go all the way back to part 1.4 and change the random seed for `train_test_split`. Using this new data split, rerun all of your code from parts 2 and 4. For each new random seed, record the precision, recall, and accuracy for both models (and write them, as well as the random seed, in the cell below!). Do this for 3-5 different random seeds. \n"
   ]
  },
  {
   "cell_type": "markdown",
   "metadata": {},
   "source": [
    "*Write down the accuracy, precision, recall, and seed number for each of your iterations.*"
   ]
  },
  {
   "cell_type": "markdown",
   "metadata": {},
   "source": [
    "#### 5.3 (5 Points)\n",
    "\n",
    "How much variation did you observe in the precision, recall, and accuracy in your models? After going through this exercise, how (if at all) does this change your response to part 5.1? "
   ]
  },
  {
   "cell_type": "markdown",
   "metadata": {},
   "source": [
    "*Write down your response here.*"
   ]
  },
  {
   "cell_type": "markdown",
   "metadata": {},
   "source": [
    "#### 5.4 (5 Points)\n",
    "\n",
    "Finally, compare the performance of your regression and SVM models. Which, if any, performed better? Esxplain."
   ]
  },
  {
   "cell_type": "markdown",
   "metadata": {},
   "source": [
    "*Write down your response here.*"
   ]
  },
  {
   "cell_type": "markdown",
   "metadata": {},
   "source": [
    "---\n",
    "\n",
    "### &#128721; STOP (3 Point)\n",
    "**Pause to commit your changes to your Git repository!**\n",
    "\n",
    "Take a moment to save your notebook, commit the changes to your Git repository with a meaningful commit message.\n",
    "\n",
    "---"
   ]
  },
  {
   "cell_type": "markdown",
   "metadata": {},
   "source": [
    "### Congratulations, you're done!"
   ]
  },
  {
   "cell_type": "markdown",
   "metadata": {},
   "source": [
    "&#169; Copyright 2022,  Department of Computational Mathematics, Science and Engineering at Michigan State University"
   ]
  }
 ],
 "metadata": {
  "kernelspec": {
   "display_name": "Python 3",
   "language": "python",
   "name": "python3"
  },
  "language_info": {
   "codemirror_mode": {
    "name": "ipython",
    "version": 3
   },
   "file_extension": ".py",
   "mimetype": "text/x-python",
   "name": "python",
   "nbconvert_exporter": "python",
   "pygments_lexer": "ipython3",
   "version": "3.8.8"
  }
 },
 "nbformat": 4,
 "nbformat_minor": 2
}
